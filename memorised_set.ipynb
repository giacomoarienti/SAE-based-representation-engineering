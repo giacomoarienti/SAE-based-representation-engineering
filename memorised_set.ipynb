{
 "cells": [
  {
   "cell_type": "code",
   "execution_count": null,
   "metadata": {},
   "outputs": [],
   "source": [
    "%pip install fuzzywuzzy torch pickle datasets transformers"
   ]
  },
  {
   "cell_type": "code",
   "execution_count": null,
   "metadata": {},
   "outputs": [],
   "source": [
    "import torch\n",
    "import pickle\n",
    "from datasets import load_dataset\n",
    "from transformers import AutoModelForCausalLM, AutoTokenizer\n",
    "from fuzzywuzzy import fuzz  # Install with: pip install fuzzywuzzy"
   ]
  },
  {
   "cell_type": "code",
   "execution_count": null,
   "metadata": {},
   "outputs": [],
   "source": [
    "# Constants\n",
    "MODEL_NAME = \"google/gemma-2-2b\"\n",
    "DATASET_NAME = \"pminervini/NQ-Swap\"\n",
    "SPLIT = \"dev\"\n",
    "SIMILARITY_THRESHOLD = 90  # Adjust as needed"
   ]
  },
  {
   "cell_type": "code",
   "execution_count": null,
   "metadata": {},
   "outputs": [],
   "source": [
    "# Load dataset\n",
    "print(\"Loading dataset...\")\n",
    "dataset = load_dataset(DATASET_NAME, split=SPLIT)\n",
    "\n",
    "# Load model and tokenizer\n",
    "print(\"Loading model and tokenizer...\")\n",
    "device = \"cuda\" if torch.cuda.is_available() else \"cpu\"\n",
    "tokenizer = AutoTokenizer.from_pretrained(MODEL_NAME)\n",
    "model = AutoModelForCausalLM.from_pretrained(MODEL_NAME).to(device)"
   ]
  },
  {
   "cell_type": "code",
   "execution_count": null,
   "metadata": {},
   "outputs": [],
   "source": [
    "def generate_answer(question):\n",
    "    \"\"\"Generates an answer using the model.\"\"\"\n",
    "    inputs = tokenizer(question, return_tensors=\"pt\").to(device)\n",
    "    with torch.no_grad():\n",
    "        output = model.generate(**inputs, max_new_tokens=50)\n",
    "    return tokenizer.decode(output[0], skip_special_tokens=True)\n",
    "\n",
    "# Check memorization\n",
    "memorised_indices = []\n",
    "print(\"Processing dataset...\")\n",
    "\n",
    "for idx, item in enumerate(dataset):\n",
    "    question = item[\"question\"]\n",
    "    correct_answer = item[\"answer\"]\n",
    "\n",
    "    # Generate the model's response\n",
    "    model_answer = generate_answer(question)\n",
    "\n",
    "    # Check if the model's response is correct\n",
    "    if fuzz.ratio(model_answer.lower(), correct_answer.lower()) >= SIMILARITY_THRESHOLD:\n",
    "        memorised_indices.append(idx)\n",
    "\n",
    "    # Print progress every 100 samples\n",
    "    if idx % 100 == 0:\n",
    "        print(f\"Processed {idx}/{len(dataset)} samples. Memorized so far: {len(memorised_indices)}\")"
   ]
  },
  {
   "cell_type": "code",
   "execution_count": null,
   "metadata": {},
   "outputs": [],
   "source": [
    "# Save memorised indices to a .pkl file\n",
    "output_file = \"nqswap-gemma-2-2b-memorised_set\"\n",
    "with open(output_file, \"wb\") as f:\n",
    "    pickle.dump(memorised_indices, f)\n",
    "\n",
    "print(f\"Saved {len(memorised_indices)} memorised samples to {output_file}\")"
   ]
  }
 ],
 "metadata": {
  "language_info": {
   "name": "python"
  }
 },
 "nbformat": 4,
 "nbformat_minor": 2
}
