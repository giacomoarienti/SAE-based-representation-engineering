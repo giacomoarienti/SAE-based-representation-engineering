{
  "cells": [
    {
      "cell_type": "markdown",
      "metadata": {
        "colab_type": "text",
        "id": "view-in-github"
      },
      "source": [
        "<a href=\"https://colab.research.google.com/github/giacomoarienti/SAE-based-representation-engineering/blob/main/notebook.ipynb\" target=\"_parent\"><img src=\"https://colab.research.google.com/assets/colab-badge.svg\" alt=\"Open In Colab\"/></a>"
      ]
    },
    {
      "cell_type": "code",
      "execution_count": null,
      "metadata": {
        "colab": {
          "base_uri": "https://localhost:8080/"
        },
        "id": "46hmFJxH0gBE",
        "outputId": "da4d1e5c-4830-4d76-bd65-1d7a9045d3ff"
      },
      "outputs": [],
      "source": [
        "!git clone https://github.com/giacomoarienti/SAE-based-representation-engineering.git SpaRE"
      ]
    },
    {
      "cell_type": "code",
      "execution_count": null,
      "metadata": {
        "colab": {
          "base_uri": "https://localhost:8080/"
        },
        "id": "ISxOnP1D0tiH",
        "outputId": "e0a1c5d8-9700-4290-a11f-89dcb5e95444"
      },
      "outputs": [],
      "source": [
        "%cd /content/SpaRE"
      ]
    },
    {
      "cell_type": "code",
      "execution_count": null,
      "metadata": {
        "colab": {
          "base_uri": "https://localhost:8080/"
        },
        "id": "Xv3x8fnN0cdX",
        "outputId": "7f63e4a5-4232-4455-d3a6-eef8843eb9fe"
      },
      "outputs": [],
      "source": [
        "!sh ./scripts/install.sh"
      ]
    },
    {
      "cell_type": "code",
      "execution_count": null,
      "metadata": {
        "id": "3RKgR1X53Dm-"
      },
      "outputs": [],
      "source": [
        "!sed -i 's/^\\(@torch.library.register_fake(\"torchvision::nms\")\\)/# \\1/' /usr/local/lib/python3.11/dist-packages/torchvision/_meta_registrations.py"
      ]
    },
    {
      "cell_type": "code",
      "execution_count": null,
      "metadata": {
        "id": "QeNdDaDE3-aV"
      },
      "outputs": [],
      "source": [
        "from google.colab import userdata\n",
        "import os\n",
        "\n",
        "os.environ[\"HF_TOKEN\"] = userdata.get(\"HF_TOKEN\")"
      ]
    },
    {
      "cell_type": "code",
      "execution_count": null,
      "metadata": {},
      "outputs": [],
      "source": [
        "!sh ./scripts/run_prepare_eval.sh"
      ]
    },
    {
      "cell_type": "code",
      "execution_count": null,
      "metadata": {},
      "outputs": [],
      "source": [
        "import json, torch\n",
        "\n",
        "path = './cache_data/prepare_eval/nqswap-gemma-2-9b-1shot-examples-closebook/results.json'\n",
        "output_path = './cache_data/nqswap-gemma-2-2b-memorised_set'\n",
        "\n",
        "with open(path, 'r') as f:\n",
        "\tresults = json.load(f)\n",
        "\n",
        "# load results[\"all_close_book_scores\"] to pickle\n",
        "tensor = torch.tensor(results[\"all_close_book_scores\"])\n",
        "# get the indexes of 1 elements\n",
        "indexes = torch.nonzero(tensor).squeeze()\n",
        "# tensor to set\n",
        "indexes = set(indexes.tolist())\n",
        "\n",
        "# save to output path\n",
        "torch.save(indexes, output_path)"
      ]
    },
    {
      "cell_type": "code",
      "execution_count": null,
      "metadata": {
        "colab": {
          "base_uri": "https://localhost:8080/"
        },
        "id": "IXLXWvTZa3Zb",
        "outputId": "836e8274-2e0c-45d2-8f7c-6fc39649983c"
      },
      "outputs": [],
      "source": [
        "!sh ./scripts/run_group_prompts.sh"
      ]
    },
    {
      "cell_type": "code",
      "execution_count": null,
      "metadata": {
        "colab": {
          "base_uri": "https://localhost:8080/"
        },
        "id": "fZZjGCctaIrw",
        "outputId": "5daf3fe7-315d-45d3-9a95-d46c0c6df300"
      },
      "outputs": [],
      "source": [
        "!sh ./scripts/run_save_grouped_activations.sh"
      ]
    },
    {
      "cell_type": "code",
      "execution_count": null,
      "metadata": {
        "colab": {
          "base_uri": "https://localhost:8080/"
        },
        "id": "kw357CSdbaFF",
        "outputId": "ad58d80f-c87b-47f4-e6f3-e648f55b83f8"
      },
      "outputs": [],
      "source": [
        "!sh ./scripts/run_mutual_information_and_expectations.sh"
      ]
    },
    {
      "cell_type": "code",
      "execution_count": null,
      "metadata": {
        "colab": {
          "base_uri": "https://localhost:8080/"
        },
        "id": "mSgtr70Rbh0A",
        "outputId": "61d7759e-e26e-416e-8970-ac4866718118"
      },
      "outputs": [],
      "source": [
        "!python ./scripts/run_spare.py \\\n",
        "  --model_path=\"google/gemma-2-2b\" \\\n",
        "  --data_name=\"nqswap\" \\\n",
        "  --layer_ids 9 10 11 12 \\\n",
        "  --edit_degree=2.0 \\\n",
        "  --select_topk_proportion=0.07 \\\n",
        "  --seed=42 \\\n",
        "  --hiddens_name=\"grouped_activations\" \\\n",
        "  --mutual_information_save_name=\"mutual_information\" \\\n",
        "  --run_use_parameter \\\n",
        "  --run_use_context"
      ]
    }
  ],
  "metadata": {
    "accelerator": "GPU",
    "colab": {
      "gpuType": "T4",
      "include_colab_link": true,
      "provenance": []
    },
    "kernelspec": {
      "display_name": "Python 3",
      "name": "python3"
    },
    "language_info": {
      "codemirror_mode": {
        "name": "ipython",
        "version": 3
      },
      "file_extension": ".py",
      "mimetype": "text/x-python",
      "name": "python",
      "nbconvert_exporter": "python",
      "pygments_lexer": "ipython3",
      "version": "3.10.12"
    }
  },
  "nbformat": 4,
  "nbformat_minor": 0
}
